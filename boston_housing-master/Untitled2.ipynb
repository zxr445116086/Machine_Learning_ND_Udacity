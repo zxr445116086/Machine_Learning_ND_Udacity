{
 "cells": [
  {
   "cell_type": "code",
   "execution_count": 17,
   "metadata": {
    "collapsed": false
   },
   "outputs": [
    {
     "name": "stdout",
     "output_type": "stream",
     "text": [
      "Predicted price for No.1 house: $277.85\n",
      "Predicted price for No.2 house: $277.85\n",
      "Predicted price for No.3 house: $371.12\n",
      "Predicted price for No.4 house: $313.60\n"
     ]
    }
   ],
   "source": [
    "### 你的代码\n",
    "import pandas as pd\n",
    "from sklearn.model_selection import train_test_split\n",
    "from sklearn.tree import DecisionTreeRegressor\n",
    "from sklearn.model_selection import GridSearchCV\n",
    "from sklearn.metrics import make_scorer\n",
    "from sklearn.model_selection import ShuffleSplit\n",
    "from sklearn.metrics import r2_score \n",
    "\n",
    "#读入数据，生成DataFrame，并从DataFrame中划分feature和target\n",
    "data1 = pd.read_csv('bj_housing.csv')\n",
    "feature = data1[['Area', 'Room', 'Living', 'School']]\n",
    "price = data1['Value']\n",
    "\n",
    "\n",
    "def performance_metric(y_true, y_predict):\n",
    "    \"\"\" Calculates and returns the performance score between \n",
    "        true and predicted values based on the metric chosen. \"\"\"\n",
    "    \n",
    "    # TODO: Calculate the performance score between 'y_true' and 'y_predict'\n",
    "    score = r2_score(y_true, y_predict)\n",
    "    # Return the score\n",
    "    return score\n",
    "\n",
    "#对features和prices进行重排和分割\n",
    "X_train, X_test, y_train, y_test = train_test_split(feature, price,\n",
    "                                                   test_size=0.2, random_state=42)\n",
    "\n",
    "#运用决策树算法训练模型（使用网格搜索和K折交叉验证）\n",
    "def fit_model(X, y):\n",
    "    c_v = ShuffleSplit(n_splits=10, test_size=0.2, random_state=0)\n",
    "    reg = DecisionTreeRegressor()\n",
    "    parameters = {'max_depth':[1, 2, 3, 4, 5, 6, 7, 8, 9, 10]}\n",
    "    score = make_scorer(performance_metric)\n",
    "    clf = GridSearchCV(reg, parameters, cv=c_v, scoring=score)\n",
    "    clf.fit(X, y)\n",
    "    return clf.best_estimator_\n",
    "\n",
    "#生成预测用数据：80平米两室一厅学区房和非学区房，100平米三室一厅学区房和非学区房\n",
    "pred_data = [[80, 2, 1, 1],\n",
    "             [80, 2, 1, 0],\n",
    "             [100, 3, 1, 1],\n",
    "             [100, 3, 1, 0]]\n",
    "\n",
    "#使用生成的预测数据进行预测\n",
    "clf = fit_model(X_train, y_train)\n",
    "\n",
    "for i, price in enumerate(clf.predict(pred_data)):\n",
    "    print \"Predicted price for No.{} house: ${:,.2f}\".format(i+1, price)\n"
   ]
  },
  {
   "cell_type": "code",
   "execution_count": null,
   "metadata": {
    "collapsed": true
   },
   "outputs": [],
   "source": []
  },
  {
   "cell_type": "code",
   "execution_count": null,
   "metadata": {
    "collapsed": true
   },
   "outputs": [],
   "source": []
  }
 ],
 "metadata": {
  "anaconda-cloud": {},
  "kernelspec": {
   "display_name": "Python [conda root]",
   "language": "python",
   "name": "conda-root-py"
  },
  "language_info": {
   "codemirror_mode": {
    "name": "ipython",
    "version": 2
   },
   "file_extension": ".py",
   "mimetype": "text/x-python",
   "name": "python",
   "nbconvert_exporter": "python",
   "pygments_lexer": "ipython2",
   "version": "2.7.12"
  }
 },
 "nbformat": 4,
 "nbformat_minor": 1
}
